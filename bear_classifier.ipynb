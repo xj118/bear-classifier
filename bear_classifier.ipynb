{
 "cells": [
  {
   "cell_type": "code",
   "execution_count": 3,
   "metadata": {
    "executionInfo": {
     "elapsed": 22571,
     "status": "ok",
     "timestamp": 1756108599899,
     "user": {
      "displayName": "Xingbin Jiang",
      "userId": "08171587107546210399"
     },
     "user_tz": -480
    },
    "id": "lC7eXeNjOkgs"
   },
   "outputs": [],
   "source": [
    "from fastai.vision.all import *\n",
    "from fastai.vision.widgets import *"
   ]
  },
  {
   "cell_type": "code",
   "execution_count": 5,
   "metadata": {
    "colab": {
     "base_uri": "https://localhost:8080/",
     "height": 89
    },
    "executionInfo": {
     "elapsed": 3953,
     "status": "ok",
     "timestamp": 1756108665565,
     "user": {
      "displayName": "Xingbin Jiang",
      "userId": "08171587107546210399"
     },
     "user_tz": -480
    },
    "id": "a5w6EuF4OzBw",
    "outputId": "225b2047-853e-49df-90d5-64201e094f3a"
   },
   "outputs": [
    {
     "name": "stderr",
     "output_type": "stream",
     "text": [
      "/usr/local/lib/python3.12/dist-packages/fastai/learner.py:455: UserWarning: load_learner` uses Python's insecure pickle module, which can execute malicious arbitrary code when loading. Only load files you trust.\n",
      "If you only need to load model weights and optimizer state, use the safe `Learner.load` instead.\n",
      "  warn(\"load_learner` uses Python's insecure pickle module, which can execute malicious arbitrary code when loading. Only load files you trust.\\nIf you only need to load model weights and optimizer state, use the safe `Learner.load` instead.\")\n"
     ]
    }
   ],
   "source": [
    "# Load\n",
    "\n",
    "path = Path()\n",
    "learn_inf = load_learner(path/'model/bear_classifier.pkl', cpu=True)\n",
    "btn_upload = widgets.FileUpload()\n",
    "out_pl = widgets.Output()\n",
    "lbl_pred = widgets.Label()"
   ]
  },
  {
   "cell_type": "code",
   "execution_count": 6,
   "metadata": {
    "executionInfo": {
     "elapsed": 9,
     "status": "ok",
     "timestamp": 1756108681959,
     "user": {
      "displayName": "Xingbin Jiang",
      "userId": "08171587107546210399"
     },
     "user_tz": -480
    },
    "id": "asLyoDYfO-gY"
   },
   "outputs": [],
   "source": [
    "def on_data_change(change):\n",
    "    lbl_pred.value = ''\n",
    "    img = PILImage.create(btn_upload.data[-1])\n",
    "    out_pl.clear_output()\n",
    "    with out_pl: display(img.to_thumb(128,128))\n",
    "    pred,pred_idx,probs = learn_inf.predict(img)\n",
    "    lbl_pred.value = f'Prediction: {pred}; Probability: {probs[pred_idx]:.04f}'"
   ]
  },
  {
   "cell_type": "code",
   "execution_count": 7,
   "metadata": {
    "executionInfo": {
     "elapsed": 2,
     "status": "ok",
     "timestamp": 1756108691332,
     "user": {
      "displayName": "Xingbin Jiang",
      "userId": "08171587107546210399"
     },
     "user_tz": -480
    },
    "id": "TQb7kKjbPAvz"
   },
   "outputs": [],
   "source": [
    "btn_upload.observe(on_data_change, names=['data'])"
   ]
  },
  {
   "cell_type": "code",
   "execution_count": 8,
   "metadata": {
    "colab": {
     "base_uri": "https://localhost:8080/",
     "height": 200,
     "referenced_widgets": [
      "02033cbc03bc4550b3dcb90d3f4bf4d0",
      "5cf4e8f317c84637b3caea698f8fa084",
      "4b04ab4aad674c5d968f85407ac13a28",
      "249e4361270d44cd9f1f055c534bd8ff",
      "fd066059d15b4c138961899954856f0e",
      "2191b8d8c3374410b52aa4290e92f98e",
      "35b8ee22ab3644928dd698e4df498fc6",
      "cbe68975c2104b39aaa16000df8af85d",
      "11758c5be2dc442184cd980f92ab12bd",
      "b46f1d8131c3419b896ce37cca601749",
      "1f92045834b34da7ba1ced429b07c32c",
      "8f4e28530695425e8354172eb2ee40f3",
      "d4526721502f493f98fe82186268f0a7"
     ]
    },
    "executionInfo": {
     "elapsed": 88,
     "status": "ok",
     "timestamp": 1756108702105,
     "user": {
      "displayName": "Xingbin Jiang",
      "userId": "08171587107546210399"
     },
     "user_tz": -480
    },
    "id": "LN8ha7-yPCMg",
    "outputId": "4c4ba11b-891c-49b2-8adf-0a8ec4f312ab"
   },
   "outputs": [
    {
     "data": {
      "application/vnd.jupyter.widget-view+json": {
       "model_id": "02033cbc03bc4550b3dcb90d3f4bf4d0",
       "version_major": 2,
       "version_minor": 0
      },
      "text/plain": [
       "VBox(children=(Label(value='Select your bear!'), FileUpload(value={}, description='Upload'), Output(), Label(v…"
      ]
     },
     "metadata": {},
     "output_type": "display_data"
    },
    {
     "data": {
      "text/html": [
       "\n",
       "<style>\n",
       "    /* Turns off some styling */\n",
       "    progress {\n",
       "        /* gets rid of default border in Firefox and Opera. */\n",
       "        border: none;\n",
       "        /* Needs to be in here for Safari polyfill so background images work as expected. */\n",
       "        background-size: auto;\n",
       "    }\n",
       "    progress:not([value]), progress:not([value])::-webkit-progress-bar {\n",
       "        background: repeating-linear-gradient(45deg, #7e7e7e, #7e7e7e 10px, #5c5c5c 10px, #5c5c5c 20px);\n",
       "    }\n",
       "    .progress-bar-interrupted, .progress-bar-interrupted::-webkit-progress-bar {\n",
       "        background: #F44336;\n",
       "    }\n",
       "</style>\n"
      ],
      "text/plain": [
       "<IPython.core.display.HTML object>"
      ]
     },
     "metadata": {},
     "output_type": "display_data"
    },
    {
     "data": {
      "text/html": [],
      "text/plain": [
       "<IPython.core.display.HTML object>"
      ]
     },
     "metadata": {},
     "output_type": "display_data"
    },
    {
     "data": {
      "text/html": [
       "\n",
       "<style>\n",
       "    /* Turns off some styling */\n",
       "    progress {\n",
       "        /* gets rid of default border in Firefox and Opera. */\n",
       "        border: none;\n",
       "        /* Needs to be in here for Safari polyfill so background images work as expected. */\n",
       "        background-size: auto;\n",
       "    }\n",
       "    progress:not([value]), progress:not([value])::-webkit-progress-bar {\n",
       "        background: repeating-linear-gradient(45deg, #7e7e7e, #7e7e7e 10px, #5c5c5c 10px, #5c5c5c 20px);\n",
       "    }\n",
       "    .progress-bar-interrupted, .progress-bar-interrupted::-webkit-progress-bar {\n",
       "        background: #F44336;\n",
       "    }\n",
       "</style>\n"
      ],
      "text/plain": [
       "<IPython.core.display.HTML object>"
      ]
     },
     "metadata": {},
     "output_type": "display_data"
    },
    {
     "data": {
      "text/html": [],
      "text/plain": [
       "<IPython.core.display.HTML object>"
      ]
     },
     "metadata": {},
     "output_type": "display_data"
    },
    {
     "data": {
      "text/html": [
       "\n",
       "<style>\n",
       "    /* Turns off some styling */\n",
       "    progress {\n",
       "        /* gets rid of default border in Firefox and Opera. */\n",
       "        border: none;\n",
       "        /* Needs to be in here for Safari polyfill so background images work as expected. */\n",
       "        background-size: auto;\n",
       "    }\n",
       "    progress:not([value]), progress:not([value])::-webkit-progress-bar {\n",
       "        background: repeating-linear-gradient(45deg, #7e7e7e, #7e7e7e 10px, #5c5c5c 10px, #5c5c5c 20px);\n",
       "    }\n",
       "    .progress-bar-interrupted, .progress-bar-interrupted::-webkit-progress-bar {\n",
       "        background: #F44336;\n",
       "    }\n",
       "</style>\n"
      ],
      "text/plain": [
       "<IPython.core.display.HTML object>"
      ]
     },
     "metadata": {},
     "output_type": "display_data"
    },
    {
     "data": {
      "text/html": [],
      "text/plain": [
       "<IPython.core.display.HTML object>"
      ]
     },
     "metadata": {},
     "output_type": "display_data"
    },
    {
     "data": {
      "text/html": [
       "\n",
       "<style>\n",
       "    /* Turns off some styling */\n",
       "    progress {\n",
       "        /* gets rid of default border in Firefox and Opera. */\n",
       "        border: none;\n",
       "        /* Needs to be in here for Safari polyfill so background images work as expected. */\n",
       "        background-size: auto;\n",
       "    }\n",
       "    progress:not([value]), progress:not([value])::-webkit-progress-bar {\n",
       "        background: repeating-linear-gradient(45deg, #7e7e7e, #7e7e7e 10px, #5c5c5c 10px, #5c5c5c 20px);\n",
       "    }\n",
       "    .progress-bar-interrupted, .progress-bar-interrupted::-webkit-progress-bar {\n",
       "        background: #F44336;\n",
       "    }\n",
       "</style>\n"
      ],
      "text/plain": [
       "<IPython.core.display.HTML object>"
      ]
     },
     "metadata": {},
     "output_type": "display_data"
    },
    {
     "data": {
      "text/html": [],
      "text/plain": [
       "<IPython.core.display.HTML object>"
      ]
     },
     "metadata": {},
     "output_type": "display_data"
    },
    {
     "data": {
      "text/html": [
       "\n",
       "<style>\n",
       "    /* Turns off some styling */\n",
       "    progress {\n",
       "        /* gets rid of default border in Firefox and Opera. */\n",
       "        border: none;\n",
       "        /* Needs to be in here for Safari polyfill so background images work as expected. */\n",
       "        background-size: auto;\n",
       "    }\n",
       "    progress:not([value]), progress:not([value])::-webkit-progress-bar {\n",
       "        background: repeating-linear-gradient(45deg, #7e7e7e, #7e7e7e 10px, #5c5c5c 10px, #5c5c5c 20px);\n",
       "    }\n",
       "    .progress-bar-interrupted, .progress-bar-interrupted::-webkit-progress-bar {\n",
       "        background: #F44336;\n",
       "    }\n",
       "</style>\n"
      ],
      "text/plain": [
       "<IPython.core.display.HTML object>"
      ]
     },
     "metadata": {},
     "output_type": "display_data"
    },
    {
     "data": {
      "text/html": [],
      "text/plain": [
       "<IPython.core.display.HTML object>"
      ]
     },
     "metadata": {},
     "output_type": "display_data"
    }
   ],
   "source": [
    "display(VBox([widgets.Label('Select your bear!'), btn_upload, out_pl, lbl_pred]))"
   ]
  }
 ],
 "metadata": {
  "colab": {
   "authorship_tag": "ABX9TyPjENZ1F8SRwwg8OgnQW9vx",
   "provenance": []
  },
  "kernelspec": {
   "display_name": "Python 3 (ipykernel)",
   "language": "python",
   "name": "python3"
  },
  "language_info": {
   "codemirror_mode": {
    "name": "ipython",
    "version": 3
   },
   "file_extension": ".py",
   "mimetype": "text/x-python",
   "name": "python",
   "nbconvert_exporter": "python",
   "pygments_lexer": "ipython3",
   "version": "3.13.7"
  },
  "widgets": {
   "application/vnd.jupyter.widget-state+json": {
    "02033cbc03bc4550b3dcb90d3f4bf4d0": {
     "model_module": "@jupyter-widgets/controls",
     "model_module_version": "1.5.0",
     "model_name": "VBoxModel",
     "state": {
      "_dom_classes": [],
      "_model_module": "@jupyter-widgets/controls",
      "_model_module_version": "1.5.0",
      "_model_name": "VBoxModel",
      "_view_count": null,
      "_view_module": "@jupyter-widgets/controls",
      "_view_module_version": "1.5.0",
      "_view_name": "VBoxView",
      "box_style": "",
      "children": [
       "IPY_MODEL_5cf4e8f317c84637b3caea698f8fa084",
       "IPY_MODEL_4b04ab4aad674c5d968f85407ac13a28",
       "IPY_MODEL_249e4361270d44cd9f1f055c534bd8ff",
       "IPY_MODEL_fd066059d15b4c138961899954856f0e"
      ],
      "layout": "IPY_MODEL_2191b8d8c3374410b52aa4290e92f98e"
     }
    },
    "11758c5be2dc442184cd980f92ab12bd": {
     "model_module": "@jupyter-widgets/base",
     "model_module_version": "1.2.0",
     "model_name": "LayoutModel",
     "state": {
      "_model_module": "@jupyter-widgets/base",
      "_model_module_version": "1.2.0",
      "_model_name": "LayoutModel",
      "_view_count": null,
      "_view_module": "@jupyter-widgets/base",
      "_view_module_version": "1.2.0",
      "_view_name": "LayoutView",
      "align_content": null,
      "align_items": null,
      "align_self": null,
      "border": null,
      "bottom": null,
      "display": null,
      "flex": null,
      "flex_flow": null,
      "grid_area": null,
      "grid_auto_columns": null,
      "grid_auto_flow": null,
      "grid_auto_rows": null,
      "grid_column": null,
      "grid_gap": null,
      "grid_row": null,
      "grid_template_areas": null,
      "grid_template_columns": null,
      "grid_template_rows": null,
      "height": null,
      "justify_content": null,
      "justify_items": null,
      "left": null,
      "margin": null,
      "max_height": null,
      "max_width": null,
      "min_height": null,
      "min_width": null,
      "object_fit": null,
      "object_position": null,
      "order": null,
      "overflow": null,
      "overflow_x": null,
      "overflow_y": null,
      "padding": null,
      "right": null,
      "top": null,
      "visibility": null,
      "width": null
     }
    },
    "1f92045834b34da7ba1ced429b07c32c": {
     "model_module": "@jupyter-widgets/base",
     "model_module_version": "1.2.0",
     "model_name": "LayoutModel",
     "state": {
      "_model_module": "@jupyter-widgets/base",
      "_model_module_version": "1.2.0",
      "_model_name": "LayoutModel",
      "_view_count": null,
      "_view_module": "@jupyter-widgets/base",
      "_view_module_version": "1.2.0",
      "_view_name": "LayoutView",
      "align_content": null,
      "align_items": null,
      "align_self": null,
      "border": null,
      "bottom": null,
      "display": null,
      "flex": null,
      "flex_flow": null,
      "grid_area": null,
      "grid_auto_columns": null,
      "grid_auto_flow": null,
      "grid_auto_rows": null,
      "grid_column": null,
      "grid_gap": null,
      "grid_row": null,
      "grid_template_areas": null,
      "grid_template_columns": null,
      "grid_template_rows": null,
      "height": null,
      "justify_content": null,
      "justify_items": null,
      "left": null,
      "margin": null,
      "max_height": null,
      "max_width": null,
      "min_height": null,
      "min_width": null,
      "object_fit": null,
      "object_position": null,
      "order": null,
      "overflow": null,
      "overflow_x": null,
      "overflow_y": null,
      "padding": null,
      "right": null,
      "top": null,
      "visibility": null,
      "width": null
     }
    },
    "2191b8d8c3374410b52aa4290e92f98e": {
     "model_module": "@jupyter-widgets/base",
     "model_module_version": "1.2.0",
     "model_name": "LayoutModel",
     "state": {
      "_model_module": "@jupyter-widgets/base",
      "_model_module_version": "1.2.0",
      "_model_name": "LayoutModel",
      "_view_count": null,
      "_view_module": "@jupyter-widgets/base",
      "_view_module_version": "1.2.0",
      "_view_name": "LayoutView",
      "align_content": null,
      "align_items": null,
      "align_self": null,
      "border": null,
      "bottom": null,
      "display": null,
      "flex": null,
      "flex_flow": null,
      "grid_area": null,
      "grid_auto_columns": null,
      "grid_auto_flow": null,
      "grid_auto_rows": null,
      "grid_column": null,
      "grid_gap": null,
      "grid_row": null,
      "grid_template_areas": null,
      "grid_template_columns": null,
      "grid_template_rows": null,
      "height": null,
      "justify_content": null,
      "justify_items": null,
      "left": null,
      "margin": null,
      "max_height": null,
      "max_width": null,
      "min_height": null,
      "min_width": null,
      "object_fit": null,
      "object_position": null,
      "order": null,
      "overflow": null,
      "overflow_x": null,
      "overflow_y": null,
      "padding": null,
      "right": null,
      "top": null,
      "visibility": null,
      "width": null
     }
    },
    "249e4361270d44cd9f1f055c534bd8ff": {
     "model_module": "@jupyter-widgets/output",
     "model_module_version": "1.0.0",
     "model_name": "OutputModel",
     "state": {
      "_dom_classes": [],
      "_model_module": "@jupyter-widgets/output",
      "_model_module_version": "1.0.0",
      "_model_name": "OutputModel",
      "_view_count": null,
      "_view_module": "@jupyter-widgets/output",
      "_view_module_version": "1.0.0",
      "_view_name": "OutputView",
      "layout": "IPY_MODEL_d4526721502f493f98fe82186268f0a7",
      "msg_id": "",
      "outputs": [
       {
        "data": {
         "image/jpeg": "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\n",
         "image/png": "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\n",
         "text/plain": "<PIL.Image.Image image mode=RGB size=128x87>"
        },
        "metadata": {},
        "output_type": "display_data"
       }
      ]
     }
    },
    "35b8ee22ab3644928dd698e4df498fc6": {
     "model_module": "@jupyter-widgets/base",
     "model_module_version": "1.2.0",
     "model_name": "LayoutModel",
     "state": {
      "_model_module": "@jupyter-widgets/base",
      "_model_module_version": "1.2.0",
      "_model_name": "LayoutModel",
      "_view_count": null,
      "_view_module": "@jupyter-widgets/base",
      "_view_module_version": "1.2.0",
      "_view_name": "LayoutView",
      "align_content": null,
      "align_items": null,
      "align_self": null,
      "border": null,
      "bottom": null,
      "display": null,
      "flex": null,
      "flex_flow": null,
      "grid_area": null,
      "grid_auto_columns": null,
      "grid_auto_flow": null,
      "grid_auto_rows": null,
      "grid_column": null,
      "grid_gap": null,
      "grid_row": null,
      "grid_template_areas": null,
      "grid_template_columns": null,
      "grid_template_rows": null,
      "height": null,
      "justify_content": null,
      "justify_items": null,
      "left": null,
      "margin": null,
      "max_height": null,
      "max_width": null,
      "min_height": null,
      "min_width": null,
      "object_fit": null,
      "object_position": null,
      "order": null,
      "overflow": null,
      "overflow_x": null,
      "overflow_y": null,
      "padding": null,
      "right": null,
      "top": null,
      "visibility": null,
      "width": null
     }
    },
    "4b04ab4aad674c5d968f85407ac13a28": {
     "model_module": "@jupyter-widgets/controls",
     "model_module_version": "1.5.0",
     "model_name": "FileUploadModel",
     "state": {
      "_counter": 5,
      "_dom_classes": [],
      "_model_module": "@jupyter-widgets/controls",
      "_model_module_version": "1.5.0",
      "_model_name": "FileUploadModel",
      "_view_count": null,
      "_view_module": "@jupyter-widgets/controls",
      "_view_module_version": "1.5.0",
      "_view_name": "FileUploadView",
      "accept": "",
      "button_style": "",
      "data": [
       null
      ],
      "description": "Upload",
      "description_tooltip": null,
      "disabled": false,
      "error": "",
      "icon": "upload",
      "layout": "IPY_MODEL_11758c5be2dc442184cd980f92ab12bd",
      "metadata": [
       {
        "lastModified": 1756108755352,
        "name": "American-black-bear-ursus-americanus-standing-stream-British-Columbia-Canada.webp",
        "size": 178422,
        "type": "image/webp"
       }
      ],
      "multiple": false,
      "style": "IPY_MODEL_b46f1d8131c3419b896ce37cca601749"
     }
    },
    "5cf4e8f317c84637b3caea698f8fa084": {
     "model_module": "@jupyter-widgets/controls",
     "model_module_version": "1.5.0",
     "model_name": "LabelModel",
     "state": {
      "_dom_classes": [],
      "_model_module": "@jupyter-widgets/controls",
      "_model_module_version": "1.5.0",
      "_model_name": "LabelModel",
      "_view_count": null,
      "_view_module": "@jupyter-widgets/controls",
      "_view_module_version": "1.5.0",
      "_view_name": "LabelView",
      "description": "",
      "description_tooltip": null,
      "layout": "IPY_MODEL_35b8ee22ab3644928dd698e4df498fc6",
      "placeholder": "​",
      "style": "IPY_MODEL_cbe68975c2104b39aaa16000df8af85d",
      "value": "Select your bear!"
     }
    },
    "8f4e28530695425e8354172eb2ee40f3": {
     "model_module": "@jupyter-widgets/controls",
     "model_module_version": "1.5.0",
     "model_name": "DescriptionStyleModel",
     "state": {
      "_model_module": "@jupyter-widgets/controls",
      "_model_module_version": "1.5.0",
      "_model_name": "DescriptionStyleModel",
      "_view_count": null,
      "_view_module": "@jupyter-widgets/base",
      "_view_module_version": "1.2.0",
      "_view_name": "StyleView",
      "description_width": ""
     }
    },
    "b46f1d8131c3419b896ce37cca601749": {
     "model_module": "@jupyter-widgets/controls",
     "model_module_version": "1.5.0",
     "model_name": "ButtonStyleModel",
     "state": {
      "_model_module": "@jupyter-widgets/controls",
      "_model_module_version": "1.5.0",
      "_model_name": "ButtonStyleModel",
      "_view_count": null,
      "_view_module": "@jupyter-widgets/base",
      "_view_module_version": "1.2.0",
      "_view_name": "StyleView",
      "button_color": null,
      "font_weight": ""
     }
    },
    "cbe68975c2104b39aaa16000df8af85d": {
     "model_module": "@jupyter-widgets/controls",
     "model_module_version": "1.5.0",
     "model_name": "DescriptionStyleModel",
     "state": {
      "_model_module": "@jupyter-widgets/controls",
      "_model_module_version": "1.5.0",
      "_model_name": "DescriptionStyleModel",
      "_view_count": null,
      "_view_module": "@jupyter-widgets/base",
      "_view_module_version": "1.2.0",
      "_view_name": "StyleView",
      "description_width": ""
     }
    },
    "d4526721502f493f98fe82186268f0a7": {
     "model_module": "@jupyter-widgets/base",
     "model_module_version": "1.2.0",
     "model_name": "LayoutModel",
     "state": {
      "_model_module": "@jupyter-widgets/base",
      "_model_module_version": "1.2.0",
      "_model_name": "LayoutModel",
      "_view_count": null,
      "_view_module": "@jupyter-widgets/base",
      "_view_module_version": "1.2.0",
      "_view_name": "LayoutView",
      "align_content": null,
      "align_items": null,
      "align_self": null,
      "border": null,
      "bottom": null,
      "display": null,
      "flex": null,
      "flex_flow": null,
      "grid_area": null,
      "grid_auto_columns": null,
      "grid_auto_flow": null,
      "grid_auto_rows": null,
      "grid_column": null,
      "grid_gap": null,
      "grid_row": null,
      "grid_template_areas": null,
      "grid_template_columns": null,
      "grid_template_rows": null,
      "height": null,
      "justify_content": null,
      "justify_items": null,
      "left": null,
      "margin": null,
      "max_height": null,
      "max_width": null,
      "min_height": null,
      "min_width": null,
      "object_fit": null,
      "object_position": null,
      "order": null,
      "overflow": null,
      "overflow_x": null,
      "overflow_y": null,
      "padding": null,
      "right": null,
      "top": null,
      "visibility": null,
      "width": null
     }
    },
    "fd066059d15b4c138961899954856f0e": {
     "model_module": "@jupyter-widgets/controls",
     "model_module_version": "1.5.0",
     "model_name": "LabelModel",
     "state": {
      "_dom_classes": [],
      "_model_module": "@jupyter-widgets/controls",
      "_model_module_version": "1.5.0",
      "_model_name": "LabelModel",
      "_view_count": null,
      "_view_module": "@jupyter-widgets/controls",
      "_view_module_version": "1.5.0",
      "_view_name": "LabelView",
      "description": "",
      "description_tooltip": null,
      "layout": "IPY_MODEL_1f92045834b34da7ba1ced429b07c32c",
      "placeholder": "​",
      "style": "IPY_MODEL_8f4e28530695425e8354172eb2ee40f3",
      "value": "Prediction: black; Probability: 1.0000"
     }
    }
   }
  }
 },
 "nbformat": 4,
 "nbformat_minor": 4
}
